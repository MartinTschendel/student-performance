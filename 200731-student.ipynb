{
 "cells": [
  {
   "cell_type": "code",
   "execution_count": 47,
   "metadata": {},
   "outputs": [],
   "source": [
    "import pandas as pd\n",
    "import numpy as np\n",
    "\n",
    "from matplotlib import pyplot as plt\n",
    "import seaborn as sns\n",
    "%matplotlib inline"
   ]
  },
  {
   "cell_type": "code",
   "execution_count": 48,
   "metadata": {},
   "outputs": [],
   "source": [
    "#source of dataset: http://archive.ics.uci.edu/ml/datasets/Student+Performance\n",
    "#target variable: G3 (performance of students in portuguese)\n",
    "#change delimiter from semicolon to comma\n",
    "df = pd.read_csv('student/student-por.csv', sep=\";\")"
   ]
  },
  {
   "cell_type": "code",
   "execution_count": 49,
   "metadata": {},
   "outputs": [
    {
     "data": {
      "text/plain": [
       "(649, 33)"
      ]
     },
     "execution_count": 49,
     "metadata": {},
     "output_type": "execute_result"
    }
   ],
   "source": [
    "#number of rows and columns\n",
    "df.shape"
   ]
  },
  {
   "cell_type": "code",
   "execution_count": 50,
   "metadata": {},
   "outputs": [],
   "source": [
    "#unify column names (lower letters)\n",
    "df.columns = df.columns.str.lower()"
   ]
  },
  {
   "cell_type": "code",
   "execution_count": 51,
   "metadata": {},
   "outputs": [
    {
     "data": {
      "text/html": [
       "<div>\n",
       "<style scoped>\n",
       "    .dataframe tbody tr th:only-of-type {\n",
       "        vertical-align: middle;\n",
       "    }\n",
       "\n",
       "    .dataframe tbody tr th {\n",
       "        vertical-align: top;\n",
       "    }\n",
       "\n",
       "    .dataframe thead th {\n",
       "        text-align: right;\n",
       "    }\n",
       "</style>\n",
       "<table border=\"1\" class=\"dataframe\">\n",
       "  <thead>\n",
       "    <tr style=\"text-align: right;\">\n",
       "      <th></th>\n",
       "      <th>school</th>\n",
       "      <th>sex</th>\n",
       "      <th>age</th>\n",
       "      <th>address</th>\n",
       "      <th>famsize</th>\n",
       "      <th>pstatus</th>\n",
       "      <th>medu</th>\n",
       "      <th>fedu</th>\n",
       "      <th>mjob</th>\n",
       "      <th>fjob</th>\n",
       "      <th>...</th>\n",
       "      <th>famrel</th>\n",
       "      <th>freetime</th>\n",
       "      <th>goout</th>\n",
       "      <th>dalc</th>\n",
       "      <th>walc</th>\n",
       "      <th>health</th>\n",
       "      <th>absences</th>\n",
       "      <th>g1</th>\n",
       "      <th>g2</th>\n",
       "      <th>g3</th>\n",
       "    </tr>\n",
       "  </thead>\n",
       "  <tbody>\n",
       "    <tr>\n",
       "      <td>0</td>\n",
       "      <td>GP</td>\n",
       "      <td>F</td>\n",
       "      <td>18</td>\n",
       "      <td>U</td>\n",
       "      <td>GT3</td>\n",
       "      <td>A</td>\n",
       "      <td>4</td>\n",
       "      <td>4</td>\n",
       "      <td>at_home</td>\n",
       "      <td>teacher</td>\n",
       "      <td>...</td>\n",
       "      <td>4</td>\n",
       "      <td>3</td>\n",
       "      <td>4</td>\n",
       "      <td>1</td>\n",
       "      <td>1</td>\n",
       "      <td>3</td>\n",
       "      <td>4</td>\n",
       "      <td>0</td>\n",
       "      <td>11</td>\n",
       "      <td>11</td>\n",
       "    </tr>\n",
       "    <tr>\n",
       "      <td>1</td>\n",
       "      <td>GP</td>\n",
       "      <td>F</td>\n",
       "      <td>17</td>\n",
       "      <td>U</td>\n",
       "      <td>GT3</td>\n",
       "      <td>T</td>\n",
       "      <td>1</td>\n",
       "      <td>1</td>\n",
       "      <td>at_home</td>\n",
       "      <td>other</td>\n",
       "      <td>...</td>\n",
       "      <td>5</td>\n",
       "      <td>3</td>\n",
       "      <td>3</td>\n",
       "      <td>1</td>\n",
       "      <td>1</td>\n",
       "      <td>3</td>\n",
       "      <td>2</td>\n",
       "      <td>9</td>\n",
       "      <td>11</td>\n",
       "      <td>11</td>\n",
       "    </tr>\n",
       "    <tr>\n",
       "      <td>2</td>\n",
       "      <td>GP</td>\n",
       "      <td>F</td>\n",
       "      <td>15</td>\n",
       "      <td>U</td>\n",
       "      <td>LE3</td>\n",
       "      <td>T</td>\n",
       "      <td>1</td>\n",
       "      <td>1</td>\n",
       "      <td>at_home</td>\n",
       "      <td>other</td>\n",
       "      <td>...</td>\n",
       "      <td>4</td>\n",
       "      <td>3</td>\n",
       "      <td>2</td>\n",
       "      <td>2</td>\n",
       "      <td>3</td>\n",
       "      <td>3</td>\n",
       "      <td>6</td>\n",
       "      <td>12</td>\n",
       "      <td>13</td>\n",
       "      <td>12</td>\n",
       "    </tr>\n",
       "    <tr>\n",
       "      <td>3</td>\n",
       "      <td>GP</td>\n",
       "      <td>F</td>\n",
       "      <td>15</td>\n",
       "      <td>U</td>\n",
       "      <td>GT3</td>\n",
       "      <td>T</td>\n",
       "      <td>4</td>\n",
       "      <td>2</td>\n",
       "      <td>health</td>\n",
       "      <td>services</td>\n",
       "      <td>...</td>\n",
       "      <td>3</td>\n",
       "      <td>2</td>\n",
       "      <td>2</td>\n",
       "      <td>1</td>\n",
       "      <td>1</td>\n",
       "      <td>5</td>\n",
       "      <td>0</td>\n",
       "      <td>14</td>\n",
       "      <td>14</td>\n",
       "      <td>14</td>\n",
       "    </tr>\n",
       "    <tr>\n",
       "      <td>4</td>\n",
       "      <td>GP</td>\n",
       "      <td>F</td>\n",
       "      <td>16</td>\n",
       "      <td>U</td>\n",
       "      <td>GT3</td>\n",
       "      <td>T</td>\n",
       "      <td>3</td>\n",
       "      <td>3</td>\n",
       "      <td>other</td>\n",
       "      <td>other</td>\n",
       "      <td>...</td>\n",
       "      <td>4</td>\n",
       "      <td>3</td>\n",
       "      <td>2</td>\n",
       "      <td>1</td>\n",
       "      <td>2</td>\n",
       "      <td>5</td>\n",
       "      <td>0</td>\n",
       "      <td>11</td>\n",
       "      <td>13</td>\n",
       "      <td>13</td>\n",
       "    </tr>\n",
       "  </tbody>\n",
       "</table>\n",
       "<p>5 rows × 33 columns</p>\n",
       "</div>"
      ],
      "text/plain": [
       "  school sex  age address famsize pstatus  medu  fedu     mjob      fjob  ...  \\\n",
       "0     GP   F   18       U     GT3       A     4     4  at_home   teacher  ...   \n",
       "1     GP   F   17       U     GT3       T     1     1  at_home     other  ...   \n",
       "2     GP   F   15       U     LE3       T     1     1  at_home     other  ...   \n",
       "3     GP   F   15       U     GT3       T     4     2   health  services  ...   \n",
       "4     GP   F   16       U     GT3       T     3     3    other     other  ...   \n",
       "\n",
       "  famrel freetime  goout  dalc  walc health absences  g1  g2  g3  \n",
       "0      4        3      4     1     1      3        4   0  11  11  \n",
       "1      5        3      3     1     1      3        2   9  11  11  \n",
       "2      4        3      2     2     3      3        6  12  13  12  \n",
       "3      3        2      2     1     1      5        0  14  14  14  \n",
       "4      4        3      2     1     2      5        0  11  13  13  \n",
       "\n",
       "[5 rows x 33 columns]"
      ]
     },
     "execution_count": 51,
     "metadata": {},
     "output_type": "execute_result"
    }
   ],
   "source": [
    "df.head()"
   ]
  },
  {
   "cell_type": "code",
   "execution_count": 52,
   "metadata": {},
   "outputs": [
    {
     "data": {
      "text/plain": [
       "sex\n",
       "F    12.253264\n",
       "M    11.406015\n",
       "Name: g3, dtype: float64"
      ]
     },
     "execution_count": 52,
     "metadata": {},
     "output_type": "execute_result"
    }
   ],
   "source": [
    "#get average performance of males and females\n",
    "df.groupby(['sex'])['g3'].mean()"
   ]
  },
  {
   "cell_type": "code",
   "execution_count": 53,
   "metadata": {},
   "outputs": [
    {
     "name": "stdout",
     "output_type": "stream",
     "text": [
      "<class 'pandas.core.frame.DataFrame'>\n",
      "RangeIndex: 649 entries, 0 to 648\n",
      "Data columns (total 33 columns):\n",
      "school        649 non-null object\n",
      "sex           649 non-null object\n",
      "age           649 non-null int64\n",
      "address       649 non-null object\n",
      "famsize       649 non-null object\n",
      "pstatus       649 non-null object\n",
      "medu          649 non-null int64\n",
      "fedu          649 non-null int64\n",
      "mjob          649 non-null object\n",
      "fjob          649 non-null object\n",
      "reason        649 non-null object\n",
      "guardian      649 non-null object\n",
      "traveltime    649 non-null int64\n",
      "studytime     649 non-null int64\n",
      "failures      649 non-null int64\n",
      "schoolsup     649 non-null object\n",
      "famsup        649 non-null object\n",
      "paid          649 non-null object\n",
      "activities    649 non-null object\n",
      "nursery       649 non-null object\n",
      "higher        649 non-null object\n",
      "internet      649 non-null object\n",
      "romantic      649 non-null object\n",
      "famrel        649 non-null int64\n",
      "freetime      649 non-null int64\n",
      "goout         649 non-null int64\n",
      "dalc          649 non-null int64\n",
      "walc          649 non-null int64\n",
      "health        649 non-null int64\n",
      "absences      649 non-null int64\n",
      "g1            649 non-null int64\n",
      "g2            649 non-null int64\n",
      "g3            649 non-null int64\n",
      "dtypes: int64(16), object(17)\n",
      "memory usage: 167.4+ KB\n"
     ]
    }
   ],
   "source": [
    "df.info()"
   ]
  },
  {
   "cell_type": "code",
   "execution_count": 54,
   "metadata": {},
   "outputs": [],
   "source": [
    "#split dataet in training, validation and testong part\n",
    "n = len(df)\n",
    "n_val = int(0.2 * n)\n",
    "n_test = int(0.2 * n)\n",
    "n_train = n - (n_val + n_test)\n",
    "\n",
    "np.random.seed(2)\n",
    "idx = np.arange(n)\n",
    "np.random.shuffle(idx)\n",
    "\n",
    "df_shuffled = df.iloc[idx]\n",
    "\n",
    "df_train = df_shuffled.iloc[:n_train].copy()\n",
    "df_val = df_shuffled.iloc[n_train:n_train+n_val].copy()\n",
    "df_test = df_shuffled.iloc[n_train+n_val:].copy()\n"
   ]
  },
  {
   "cell_type": "code",
   "execution_count": 55,
   "metadata": {},
   "outputs": [
    {
     "data": {
      "text/plain": [
       "<matplotlib.axes._subplots.AxesSubplot at 0x2efd6058288>"
      ]
     },
     "execution_count": 55,
     "metadata": {},
     "output_type": "execute_result"
    },
    {
     "data": {
      "image/png": "[encoded data removed]",
      "text/plain": [
       "<Figure size 432x288 with 1 Axes>"
      ]
     },
     "metadata": {
      "needs_background": "light"
     },
     "output_type": "display_data"
    }
   ],
   "source": [
    "#check distribution of target values\n",
    "#--> no logarithm required\n",
    "sns.distplot(df.g3)"
   ]
  },
  {
   "cell_type": "code",
   "execution_count": 56,
   "metadata": {},
   "outputs": [],
   "source": [
    "#create target variable arrays\n",
    "y_train = df_train.g3.values\n",
    "y_val = df_val.g3.values\n",
    "y_test = df_test.g3.values\n",
    "\n",
    "#remove target variable arrays from df's\n",
    "del df_train['g3']\n",
    "del df_val['g3']\n",
    "del df_test['g3']"
   ]
  },
  {
   "cell_type": "code",
   "execution_count": 57,
   "metadata": {},
   "outputs": [],
   "source": [
    "#define first numeric features\n",
    "base = ['age', 'absences']"
   ]
  },
  {
   "cell_type": "code",
   "execution_count": 58,
   "metadata": {},
   "outputs": [],
   "source": [
    "# 1st: do one hot encoding\n",
    "# 2nd: get a matrix array with 'values'\n",
    "def prepare_X(df):\n",
    "    df = df.copy()\n",
    "    features = base.copy()\n",
    "    for v in ['GP', 'MS']:\n",
    "        #give feature useful name, e.g. 'school_GP' if the school is Gabriel Pereira\n",
    "        feature = 'school_%s' % v\n",
    "        #create one-hot encoding feature\n",
    "        #here a new pandas series is created (school)\n",
    "        #astype(int) gives a 1 for True and a 0 for False\n",
    "        value = (df['school'] == v).astype(int)\n",
    "        #add the feature back to the df, using the feature name\n",
    "        df[feature] = value\n",
    "        features.append(feature)\n",
    "    \n",
    "    for v in ['F', 'M']:\n",
    "        feature = 'sex_%s' % v\n",
    "        df[feature] = (df['sex'] == v).astype(int)\n",
    "        features.append(feature)\n",
    "        \n",
    "    for v in ['U', 'R']:\n",
    "        feature = 'address_%s' % v\n",
    "        df[feature] = (df['address'] == v).astype(int)\n",
    "        features.append(feature)\n",
    "    \n",
    "    for v in ['LE3', 'GT3']:\n",
    "        feature = 'famsize_%s' % v\n",
    "        df[feature] = (df['famsize'] == v).astype(int)\n",
    "        features.append(feature)\n",
    "    \n",
    "    for v in ['T', 'A']:\n",
    "        feature = 'pstatus_%s' % v\n",
    "        df[feature] = (df['pstatus'] == v).astype(int)\n",
    "        features.append(feature)\n",
    "        \n",
    "    for v in ['at_home', 'health', 'other', 'services', 'teacher']:\n",
    "        feature = 'mjob_%s' % v\n",
    "        df[feature] = (df['mjob'] == v).astype(int)\n",
    "        features.append(feature)\n",
    "    \n",
    "    for v in ['teacher', 'other', 'services', 'health', 'at_home']:\n",
    "        feature = 'fjob_%s' % v\n",
    "        df[feature] = (df['fjob'] == v).astype(int)\n",
    "        features.append(feature)\n",
    "    \n",
    "    for v in ['course', 'other', 'home', 'reputation']:\n",
    "        feature = 'reason_%s' % v\n",
    "        df[feature] = (df['reason'] == v).astype(int)\n",
    "        features.append(feature)\n",
    "    \n",
    "    for v in ['mother', 'father', 'other']:\n",
    "        feature = 'guardian_%s' % v\n",
    "        df[feature] = (df['guardian'] == v).astype(int)\n",
    "        features.append(feature)\n",
    "    \n",
    "    for v in ['yes', 'no']:\n",
    "        feature = 'schoolsup_%s' % v\n",
    "        df[feature] = (df['schoolsup'] == v).astype(int)\n",
    "        features.append(feature)\n",
    "    \n",
    "    for v in ['yes', 'no']:\n",
    "        feature = 'famsup_%s' % v\n",
    "        df[feature] = (df['famsup'] == v).astype(int)\n",
    "        features.append(feature)\n",
    "    \n",
    "    for v in ['yes', 'no']:\n",
    "        feature = 'paid_%s' % v\n",
    "        df[feature] = (df['paid'] == v).astype(int)\n",
    "        features.append(feature)\n",
    "        \n",
    "    for v in ['yes', 'no']:\n",
    "        feature = 'activities_%s' % v\n",
    "        df[feature] = (df['activities'] == v).astype(int)\n",
    "        features.append(feature)\n",
    "    \n",
    "    for v in ['yes', 'no']:\n",
    "        feature = 'nursery_%s' % v\n",
    "        df[feature] = (df['nursery'] == v).astype(int)\n",
    "        features.append(feature)\n",
    "        \n",
    "    for v in ['yes', 'no']:\n",
    "        feature = 'higher_%s' % v\n",
    "        df[feature] = (df['higher'] == v).astype(int)\n",
    "        features.append(feature)\n",
    "        \n",
    "    for v in ['yes', 'no']:\n",
    "        feature = 'internet_%s' % v\n",
    "        df[feature] = (df['internet'] == v).astype(int)\n",
    "        features.append(feature)\n",
    "    \n",
    "    for v in ['yes', 'no']:\n",
    "        feature = 'romantic_%s' % v\n",
    "        df[feature] = (df['romantic'] == v).astype(int)\n",
    "        features.append(feature)\n",
    "    \n",
    "    df_num = df[features]\n",
    "    X = df_num.values\n",
    "    return X\n"
   ]
  },
  {
   "cell_type": "code",
   "execution_count": 59,
   "metadata": {},
   "outputs": [],
   "source": [
    "#get matrix array from training set\n",
    "X_train = prepare_X(df_train)"
   ]
  },
  {
   "cell_type": "code",
   "execution_count": 60,
   "metadata": {},
   "outputs": [],
   "source": [
    "#return the weights\n",
    "def linear_regression(X, y):\n",
    "    ones = np.ones(X.shape[0])\n",
    "    X = np.column_stack([ones, X])\n",
    "    \n",
    "    XTX = X.T.dot(X)\n",
    "    XTX_inv = np.linalg.inv(XTX)\n",
    "    w = XTX_inv.dot(X.T).dot(y)\n",
    "    return w[0], w[1:]\n",
    "w_0, w = linear_regression(X_train, y_train)\n",
    "\n",
    "#prediction of target variable, based on training set\n",
    "y_pred = w_0 + X_train.dot(w)"
   ]
  },
  {
   "cell_type": "code",
   "execution_count": 61,
   "metadata": {},
   "outputs": [
    {
     "data": {
      "text/plain": [
       "<matplotlib.legend.Legend at 0x2efd6c959c8>"
      ]
     },
     "execution_count": 61,
     "metadata": {},
     "output_type": "execute_result"
    },
    {
     "data": {
      "image/png": "[encoded data removed]",
      "text/plain": [
       "<Figure size 432x288 with 1 Axes>"
      ]
     },
     "metadata": {
      "needs_background": "light"
     },
     "output_type": "display_data"
    }
   ],
   "source": [
    "# --> get distribution of predicted target variable\n",
    "sns.distplot(y_pred, label='pred')\n",
    "#sns.distplot(y_train, label='target')\n",
    "plt.legend()"
   ]
  },
  {
   "cell_type": "code",
   "execution_count": 62,
   "metadata": {},
   "outputs": [
    {
     "data": {
      "text/plain": [
       "<matplotlib.legend.Legend at 0x2efd61588c8>"
      ]
     },
     "execution_count": 62,
     "metadata": {},
     "output_type": "execute_result"
    },
    {
     "data": {
      "image/png": "[encoded data removed]",
      "text/plain": [
       "<Figure size 432x288 with 1 Axes>"
      ]
     },
     "metadata": {
      "needs_background": "light"
     },
     "output_type": "display_data"
    }
   ],
   "source": [
    "# --> get distribution of real target variable\n",
    "#sns.distplot(y_pred, label='pred')\n",
    "sns.distplot(y_train, label='target')\n",
    "plt.legend()"
   ]
  },
  {
   "cell_type": "code",
   "execution_count": 63,
   "metadata": {},
   "outputs": [
    {
     "data": {
      "text/plain": [
       "1021.7755295252342"
      ]
     },
     "execution_count": 63,
     "metadata": {},
     "output_type": "execute_result"
    }
   ],
   "source": [
    "#get rmse\n",
    "def rmse(y, y_pred):\n",
    "    error = y_pred - y\n",
    "    mse = (error ** 2).mean()\n",
    "    return np.sqrt(mse)\n",
    "rmse(y_train, y_pred)"
   ]
  },
  {
   "cell_type": "code",
   "execution_count": 64,
   "metadata": {},
   "outputs": [],
   "source": [
    "#regularize with the parameter r\n",
    "def linear_regression_reg(X, y, r=0.01):\n",
    "    ones = np.ones(X.shape[0])\n",
    "    X = np.column_stack([ones, X])\n",
    "    \n",
    "    XTX = X.T.dot(X)\n",
    "    #add r to main diagonal of XTX\n",
    "    reg = r * np.eye(XTX.shape[0])\n",
    "    XTX = XTX + reg\n",
    "    \n",
    "    XTX_inv = np.linalg.inv(XTX)\n",
    "    w = XTX_inv.dot(X.T).dot(y)\n",
    "    \n",
    "    return w[0], w[1:]"
   ]
  },
  {
   "cell_type": "code",
   "execution_count": 65,
   "metadata": {},
   "outputs": [
    {
     "name": "stdout",
     "output_type": "stream",
     "text": [
      "    0, 1085321804899886080.00, 370589722003918080.00, 89116505095720416.00\n",
      "0.001, 1.28, 0.56, 1.20\n",
      " 0.01, 1.27, 0.56, 1.20\n",
      "  0.1, 1.27, 0.56, 1.19\n",
      "    1, 1.18, 0.53, 1.12\n",
      "   10, 0.74, 0.41, 0.72\n"
     ]
    }
   ],
   "source": [
    "# the bigger r (alpha), the smaller the weights (the denominator (Nenner) becomes bigger)\n",
    "# on the left 'column', you can see r, that growths with each step\n",
    "for r in [0, 0.001, 0.01, 0.1, 1, 10]:\n",
    "    w_0, w = linear_regression_reg(X_train, y_train, r=r)\n",
    "    print('%5s, %.2f, %.2f, %.2f' % (r, w_0, w[13], w[21]))"
   ]
  },
  {
   "cell_type": "code",
   "execution_count": 66,
   "metadata": {},
   "outputs": [
    {
     "data": {
      "text/plain": [
       "2.862295265387202"
      ]
     },
     "execution_count": 66,
     "metadata": {},
     "output_type": "execute_result"
    }
   ],
   "source": [
    "#what about our rmse (still related to training set, not validation set)\n",
    "X_train = prepare_X(df_train)\n",
    "w_0, w = linear_regression_reg(X_train, y_train, r=0.001)\n",
    "\n",
    "y_pred = w_0 + X_train.dot(w)\n",
    "rmse(y_train, y_pred)\n"
   ]
  },
  {
   "cell_type": "code",
   "execution_count": 67,
   "metadata": {},
   "outputs": [
    {
     "name": "stdout",
     "output_type": "stream",
     "text": [
      " 1e-06 2.8622952647212148\n",
      "0.0001 2.8622952647278193\n",
      " 0.001 2.862295265387202\n",
      "  0.01 2.86229533122652\n",
      "   0.1 2.8623018189040583\n",
      "     1 2.862865728742455\n",
      "     5 2.8709726630356753\n",
      "    10 2.8845104514246938\n"
     ]
    }
   ],
   "source": [
    "#run a grid search to identify the best value of r\n",
    "#r = 0.0001 seems to be the best\n",
    "X_train = prepare_X(df_train)\n",
    "\n",
    "for r in [0.000001, 0.0001, 0.001, 0.01, 0.1, 1, 5, 10]:\n",
    "    w_0, w = linear_regression_reg(X_train, y_train, r=r)\n",
    "    y_pred = w_0 + X_train.dot(w)\n",
    "    print('%6s' %r, rmse(y_train, y_pred))"
   ]
  },
  {
   "cell_type": "code",
   "execution_count": 68,
   "metadata": {},
   "outputs": [
    {
     "data": {
      "text/plain": [
       "<matplotlib.legend.Legend at 0x2efd55f7548>"
      ]
     },
     "execution_count": 68,
     "metadata": {},
     "output_type": "execute_result"
    },
    {
     "data": {
      "image/png": "[encoded data removed]",
      "text/plain": [
       "<Figure size 432x288 with 1 Axes>"
      ]
     },
     "metadata": {
      "needs_background": "light"
     },
     "output_type": "display_data"
    }
   ],
   "source": [
    "# --> get distribution of real and predicted target variable\n",
    "#after regularization\n",
    "sns.distplot(y_pred, label='pred')\n",
    "sns.distplot(y_train, label='target')\n",
    "plt.legend()"
   ]
  },
  {
   "cell_type": "markdown",
   "metadata": {},
   "source": [
    "<b>Next steps:</b><br>\n",
    "* Get the rmse of the model with the validation set\n",
    "* include all other features\n",
    "* get the rmse of the model with the validation set again\n",
    "* get the rmse of the model with the test set\n",
    "* plot distribution of real and predicted target variable after regularization\n"
   ]
  },
  {
   "cell_type": "code",
   "execution_count": 69,
   "metadata": {},
   "outputs": [
    {
     "name": "stdout",
     "output_type": "stream",
     "text": [
      "validation 2.761004454947876\n"
     ]
    }
   ],
   "source": [
    "#train the model by calculating the weight\n",
    "X_train = prepare_X(df_train)\n",
    "w_0, w = linear_regression_reg(X_train, y_train, r=0.0001)\n",
    "\n",
    "#apply model to validation dataset\n",
    "X_val = prepare_X(df_val)\n",
    "y_pred = w_0 + X_val.dot(w)\n",
    "\n",
    "#compute rmse on validation dataset\n",
    "print('validation', rmse(y_val, y_pred))"
   ]
  },
  {
   "cell_type": "code",
   "execution_count": 70,
   "metadata": {},
   "outputs": [],
   "source": [
    "#define first numeric features\n",
    "#add ordinal/ categorical features\n",
    "base = ['age', 'absences', 'medu', 'fedu', 'traveltime', 'studytime',\n",
    "       'failures', 'famrel', 'freetime', 'goout', 'dalc', 'walc', 'health',\n",
    "       'g1', 'g2']"
   ]
  },
  {
   "cell_type": "code",
   "execution_count": 71,
   "metadata": {},
   "outputs": [
    {
     "name": "stdout",
     "output_type": "stream",
     "text": [
      "validation 0.8498720102643392\n"
     ]
    }
   ],
   "source": [
    "#train the model by calculating the weight\n",
    "X_train = prepare_X(df_train)\n",
    "w_0, w = linear_regression_reg(X_train, y_train, r=0.0001)\n",
    "\n",
    "#apply model to validation dataset\n",
    "X_val = prepare_X(df_val)\n",
    "y_pred = w_0 + X_val.dot(w)\n",
    "\n",
    "#compute rmse on validation dataset\n",
    "print('validation', rmse(y_val, y_pred))"
   ]
  },
  {
   "cell_type": "code",
   "execution_count": 72,
   "metadata": {},
   "outputs": [
    {
     "name": "stdout",
     "output_type": "stream",
     "text": [
      " 1e-06 0.8498721726434592\n",
      "0.0001 0.8498720102643392\n",
      " 0.001 0.849870188320077\n",
      "  0.01 0.8498519778543184\n",
      "   0.1 0.8496707298792104\n",
      "     1 0.8479382050721068\n",
      "     5 0.8415557716914867\n",
      "    10 0.8354999733238435\n",
      "    15 0.8307561472099775\n",
      "    20 0.8269082402726997\n",
      "    30 0.8210544717126493\n",
      "    50 0.81383543557024\n",
      "   100 0.807426083384588\n",
      "   200 0.8094107113471477\n",
      "   300 0.8159363750291716\n"
     ]
    }
   ],
   "source": [
    "#run a grid search to identify the best value of r\n",
    "#r = 100 seems to be the best\n",
    "X_train = prepare_X(df_train)\n",
    "X_val = prepare_X(df_val)\n",
    "\n",
    "for r in [0.000001, 0.0001, 0.001, 0.01, 0.1, 1, 5, 10, 15, 20, 30, 50, 100, 200, 300]:\n",
    "    w_0, w = linear_regression_reg(X_train, y_train, r=r)\n",
    "    y_pred = w_0 + X_val.dot(w)\n",
    "    print('%6s' %r, rmse(y_val, y_pred))"
   ]
  },
  {
   "cell_type": "code",
   "execution_count": 73,
   "metadata": {},
   "outputs": [
    {
     "name": "stdout",
     "output_type": "stream",
     "text": [
      "validation 0.807426083384588\n"
     ]
    }
   ],
   "source": [
    "#train the model by calculating the weight\n",
    "X_train = prepare_X(df_train)\n",
    "w_0, w = linear_regression_reg(X_train, y_train, r=100)\n",
    "\n",
    "#apply model to validation dataset\n",
    "X_val = prepare_X(df_val)\n",
    "y_pred = w_0 + X_val.dot(w)\n",
    "\n",
    "#compute rmse on validation dataset\n",
    "print('validation', rmse(y_val, y_pred))"
   ]
  },
  {
   "cell_type": "code",
   "execution_count": 74,
   "metadata": {},
   "outputs": [
    {
     "name": "stdout",
     "output_type": "stream",
     "text": [
      "validation 0.807426083384588\n",
      "test 1.18929301231237\n"
     ]
    }
   ],
   "source": [
    "#let's take the model with r=100\n",
    "#check it against test dataset to see if model works\n",
    "X_train = prepare_X(df_train)\n",
    "w_0, w = linear_regression_reg(X_train, y_train, r=100)\n",
    "\n",
    "X_val = prepare_X(df_val)\n",
    "y_pred = w_0 + X_val.dot(w)\n",
    "print('validation', rmse(y_val, y_pred))\n",
    "\n",
    "X_test = prepare_X(df_test)\n",
    "y_pred = w_0 + X_test.dot(w)\n",
    "print('test', rmse(y_test, y_pred))"
   ]
  },
  {
   "cell_type": "code",
   "execution_count": 75,
   "metadata": {},
   "outputs": [
    {
     "data": {
      "text/plain": [
       "<matplotlib.legend.Legend at 0x2efd6e83ec8>"
      ]
     },
     "execution_count": 75,
     "metadata": {},
     "output_type": "execute_result"
    },
    {
     "data": {
      "image/png": "[encoded data removed]",
      "text/plain": [
       "<Figure size 432x288 with 1 Axes>"
      ]
     },
     "metadata": {
      "needs_background": "light"
     },
     "output_type": "display_data"
    }
   ],
   "source": [
    "# --> get distribution of real and predicted target variable\n",
    "#after regularization\n",
    "sns.distplot(y_pred, label='pred')\n",
    "sns.distplot(y_train, label='target')\n",
    "plt.legend()"
   ]
  },
  {
   "cell_type": "code",
   "execution_count": 76,
   "metadata": {},
   "outputs": [
    {
     "data": {
      "text/plain": [
       "{'school': 'MS',\n",
       " 'sex': 'F',\n",
       " 'age': 17,\n",
       " 'address': 'U',\n",
       " 'famsize': 'GT3',\n",
       " 'pstatus': 'A',\n",
       " 'medu': 1,\n",
       " 'fedu': 1,\n",
       " 'mjob': 'at_home',\n",
       " 'fjob': 'at_home',\n",
       " 'reason': 'other',\n",
       " 'guardian': 'mother',\n",
       " 'traveltime': 1,\n",
       " 'studytime': 2,\n",
       " 'failures': 0,\n",
       " 'schoolsup': 'no',\n",
       " 'famsup': 'no',\n",
       " 'paid': 'no',\n",
       " 'activities': 'yes',\n",
       " 'nursery': 'yes',\n",
       " 'higher': 'yes',\n",
       " 'internet': 'yes',\n",
       " 'romantic': 'yes',\n",
       " 'famrel': 4,\n",
       " 'freetime': 5,\n",
       " 'goout': 5,\n",
       " 'dalc': 1,\n",
       " 'walc': 2,\n",
       " 'health': 3,\n",
       " 'absences': 2,\n",
       " 'g1': 11,\n",
       " 'g2': 10}"
      ]
     },
     "execution_count": 76,
     "metadata": {},
     "output_type": "execute_result"
    }
   ],
   "source": [
    "# now we can get the student't performance predicted, based on specific\n",
    "#socio-economic features\n",
    "# --> get first row of the test dataset\n",
    "ad = df_test.iloc[1].to_dict()\n",
    "ad"
   ]
  },
  {
   "cell_type": "code",
   "execution_count": 77,
   "metadata": {},
   "outputs": [
    {
     "data": {
      "text/plain": [
       "array([10.39254041])"
      ]
     },
     "execution_count": 77,
     "metadata": {},
     "output_type": "execute_result"
    }
   ],
   "source": [
    "#df_test is a dataframe with one row (contains above dict info)\n",
    "df_test = pd.DataFrame([ad])\n",
    "X_test = prepare_X(df_test)\n",
    "\n",
    "#prediction of the student's performance\n",
    "y_pred = w_0 + X_test.dot(w)\n",
    "y_pred"
   ]
  },
  {
   "cell_type": "code",
   "execution_count": 78,
   "metadata": {},
   "outputs": [
    {
     "data": {
      "text/plain": [
       "11"
      ]
     },
     "execution_count": 78,
     "metadata": {},
     "output_type": "execute_result"
    }
   ],
   "source": [
    "#we can also check the real performance of that student\n",
    "df_test_incl_target = df_shuffled.iloc[n_train+n_val:].copy()\n",
    "df_test_incl_target.iloc[1]['g3']"
   ]
  },
  {
   "cell_type": "code",
   "execution_count": 110,
   "metadata": {},
   "outputs": [],
   "source": [
    "#finaly we can also change some features and see to which direction \n",
    "#the target variable moves\n",
    "ad_test = {'school': 'MS',\n",
    " 'sex': 'F',\n",
    " 'age': 17,\n",
    " 'address': 'U',\n",
    " 'famsize': 'GT3',\n",
    " 'pstatus': 'A',\n",
    " 'medu': 1,\n",
    " 'fedu': 1,\n",
    " 'mjob': 'at_home',\n",
    " 'fjob': 'at_home',\n",
    " 'reason': 'other',\n",
    " 'guardian': 'mother',\n",
    " 'traveltime': 1,\n",
    " 'studytime': 2,\n",
    " 'failures': 0,\n",
    " 'schoolsup': 'no',\n",
    " 'famsup': 'no',\n",
    " 'paid': 'no',\n",
    " 'activities': 'yes',\n",
    " 'nursery': 'yes',\n",
    " 'higher': 'yes',\n",
    " 'internet': 'yes',\n",
    " 'romantic': 'yes',\n",
    " 'famrel': 2,\n",
    " 'freetime': 4,\n",
    " 'goout': 5,\n",
    " 'dalc': 1,\n",
    " 'walc': 2,\n",
    " 'health': 3,\n",
    " 'absences': 2,\n",
    " 'g1': 11,\n",
    " 'g2': 13}"
   ]
  },
  {
   "cell_type": "code",
   "execution_count": 111,
   "metadata": {},
   "outputs": [
    {
     "data": {
      "text/plain": [
       "array([12.82031926])"
      ]
     },
     "execution_count": 111,
     "metadata": {},
     "output_type": "execute_result"
    }
   ],
   "source": [
    "#df_test is a dataframe with one row (contains above dict info)\n",
    "#these insights can help to see what needs to be adjusted\n",
    "#in order to improve the overall perfomance of students\n",
    "df_test = pd.DataFrame([ad_test])\n",
    "X_test = prepare_X(df_test)\n",
    "\n",
    "#prediction of the student's performance\n",
    "y_pred = w_0 + X_test.dot(w)\n",
    "y_pred"
   ]
  },
  {
   "cell_type": "code",
   "execution_count": null,
   "metadata": {},
   "outputs": [],
   "source": []
  }
 ],
 "metadata": {
  "kernelspec": {
   "display_name": "Python 3",
   "language": "python",
   "name": "python3"
  },
  "language_info": {
   "codemirror_mode": {
    "name": "ipython",
    "version": 3
   },
   "file_extension": ".py",
   "mimetype": "text/x-python",
   "name": "python",
   "nbconvert_exporter": "python",
   "pygments_lexer": "ipython3",
   "version": "3.7.4"
  }
 },
 "nbformat": 4,
 "nbformat_minor": 2
}
